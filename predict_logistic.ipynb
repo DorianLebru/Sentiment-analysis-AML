{
 "cells": [
  {
   "cell_type": "code",
   "execution_count": 1,
   "id": "3edc77ea",
   "metadata": {},
   "outputs": [],
   "source": [
    "import pandas as pd\n",
    "# train/test split\n",
    "from sklearn.model_selection import train_test_split"
   ]
  },
  {
   "cell_type": "code",
   "execution_count": 2,
   "id": "89da390e",
   "metadata": {},
   "outputs": [],
   "source": [
    "train_df = pd.read_csv('train.csv')\n",
    "test_df = pd.read_csv('test.csv')"
   ]
  },
  {
   "cell_type": "markdown",
   "id": "0bbfb1d9",
   "metadata": {},
   "source": [
    "# Data Inspection\n"
   ]
  },
  {
   "cell_type": "code",
   "execution_count": 3,
   "id": "ea10dfac",
   "metadata": {},
   "outputs": [
    {
     "data": {
      "text/plain": [
       "27480"
      ]
     },
     "execution_count": 3,
     "metadata": {},
     "output_type": "execute_result"
    }
   ],
   "source": [
    "len(train_df)+len(test_df)"
   ]
  },
  {
   "cell_type": "code",
   "execution_count": 4,
   "id": "1e869c52",
   "metadata": {},
   "outputs": [
    {
     "data": {
      "text/html": [
       "<div>\n",
       "<style scoped>\n",
       "    .dataframe tbody tr th:only-of-type {\n",
       "        vertical-align: middle;\n",
       "    }\n",
       "\n",
       "    .dataframe tbody tr th {\n",
       "        vertical-align: top;\n",
       "    }\n",
       "\n",
       "    .dataframe thead th {\n",
       "        text-align: right;\n",
       "    }\n",
       "</style>\n",
       "<table border=\"1\" class=\"dataframe\">\n",
       "  <thead>\n",
       "    <tr style=\"text-align: right;\">\n",
       "      <th></th>\n",
       "      <th>textID</th>\n",
       "      <th>text</th>\n",
       "      <th>selected_text</th>\n",
       "      <th>sentiment</th>\n",
       "    </tr>\n",
       "  </thead>\n",
       "  <tbody>\n",
       "    <tr>\n",
       "      <th>0</th>\n",
       "      <td>28ac06f416</td>\n",
       "      <td>good luck with your auction</td>\n",
       "      <td>good luck with your auction</td>\n",
       "      <td>positive</td>\n",
       "    </tr>\n",
       "    <tr>\n",
       "      <th>1</th>\n",
       "      <td>92098cf9a7</td>\n",
       "      <td>Hmm..You can`t judge a book by looking at its ...</td>\n",
       "      <td>Hmm..You can`t judge a book by looking at its ...</td>\n",
       "      <td>neutral</td>\n",
       "    </tr>\n",
       "    <tr>\n",
       "      <th>2</th>\n",
       "      <td>7858ff28f2</td>\n",
       "      <td>Hello, yourself. Enjoy London. Watch out for ...</td>\n",
       "      <td>They`re mental.</td>\n",
       "      <td>negative</td>\n",
       "    </tr>\n",
       "    <tr>\n",
       "      <th>3</th>\n",
       "      <td>b0c9c67f32</td>\n",
       "      <td>We can`t even call you from belgium  sucks</td>\n",
       "      <td>m  suck</td>\n",
       "      <td>negative</td>\n",
       "    </tr>\n",
       "    <tr>\n",
       "      <th>4</th>\n",
       "      <td>7b36e9e7a5</td>\n",
       "      <td>not so good mood..</td>\n",
       "      <td>not so good mood..</td>\n",
       "      <td>negative</td>\n",
       "    </tr>\n",
       "  </tbody>\n",
       "</table>\n",
       "</div>"
      ],
      "text/plain": [
       "       textID                                               text  \\\n",
       "0  28ac06f416                        good luck with your auction   \n",
       "1  92098cf9a7  Hmm..You can`t judge a book by looking at its ...   \n",
       "2  7858ff28f2   Hello, yourself. Enjoy London. Watch out for ...   \n",
       "3  b0c9c67f32         We can`t even call you from belgium  sucks   \n",
       "4  7b36e9e7a5                                 not so good mood..   \n",
       "\n",
       "                                       selected_text sentiment  \n",
       "0                        good luck with your auction  positive  \n",
       "1  Hmm..You can`t judge a book by looking at its ...   neutral  \n",
       "2                                    They`re mental.  negative  \n",
       "3                                            m  suck  negative  \n",
       "4                                 not so good mood..  negative  "
      ]
     },
     "execution_count": 4,
     "metadata": {},
     "output_type": "execute_result"
    }
   ],
   "source": [
    "train_df.head()"
   ]
  },
  {
   "cell_type": "code",
   "execution_count": 5,
   "id": "905ab4e5",
   "metadata": {},
   "outputs": [
    {
     "data": {
      "text/html": [
       "<div>\n",
       "<style scoped>\n",
       "    .dataframe tbody tr th:only-of-type {\n",
       "        vertical-align: middle;\n",
       "    }\n",
       "\n",
       "    .dataframe tbody tr th {\n",
       "        vertical-align: top;\n",
       "    }\n",
       "\n",
       "    .dataframe thead th {\n",
       "        text-align: right;\n",
       "    }\n",
       "</style>\n",
       "<table border=\"1\" class=\"dataframe\">\n",
       "  <thead>\n",
       "    <tr style=\"text-align: right;\">\n",
       "      <th></th>\n",
       "      <th>textID</th>\n",
       "      <th>text</th>\n",
       "      <th>selected_text</th>\n",
       "    </tr>\n",
       "  </thead>\n",
       "  <tbody>\n",
       "    <tr>\n",
       "      <th>0</th>\n",
       "      <td>102f98e5e2</td>\n",
       "      <td>Happy Mother`s Day hahaha</td>\n",
       "      <td>Happy Mother`s Day</td>\n",
       "    </tr>\n",
       "    <tr>\n",
       "      <th>1</th>\n",
       "      <td>033b399113</td>\n",
       "      <td>Sorry for the triple twitter post, was having ...</td>\n",
       "      <td>Sorry for the triple twitter post, was having ...</td>\n",
       "    </tr>\n",
       "    <tr>\n",
       "      <th>2</th>\n",
       "      <td>c125e29be2</td>\n",
       "      <td>thats much better than the flu syndrome!</td>\n",
       "      <td>thats much better</td>\n",
       "    </tr>\n",
       "    <tr>\n",
       "      <th>3</th>\n",
       "      <td>b91e2b0679</td>\n",
       "      <td>Aww I have a tummy ache</td>\n",
       "      <td>tummy ache</td>\n",
       "    </tr>\n",
       "    <tr>\n",
       "      <th>4</th>\n",
       "      <td>1a46141274</td>\n",
       "      <td>hey chocolate chips is good.  i want a snack ...</td>\n",
       "      <td>good.</td>\n",
       "    </tr>\n",
       "  </tbody>\n",
       "</table>\n",
       "</div>"
      ],
      "text/plain": [
       "       textID                                               text  \\\n",
       "0  102f98e5e2                          Happy Mother`s Day hahaha   \n",
       "1  033b399113  Sorry for the triple twitter post, was having ...   \n",
       "2  c125e29be2           thats much better than the flu syndrome!   \n",
       "3  b91e2b0679                            Aww I have a tummy ache   \n",
       "4  1a46141274   hey chocolate chips is good.  i want a snack ...   \n",
       "\n",
       "                                       selected_text  \n",
       "0                                 Happy Mother`s Day  \n",
       "1  Sorry for the triple twitter post, was having ...  \n",
       "2                                  thats much better  \n",
       "3                                         tummy ache  \n",
       "4                                              good.  "
      ]
     },
     "execution_count": 5,
     "metadata": {},
     "output_type": "execute_result"
    }
   ],
   "source": [
    "test_df.head()"
   ]
  },
  {
   "cell_type": "markdown",
   "id": "a874c965",
   "metadata": {},
   "source": [
    "# Data training"
   ]
  },
  {
   "cell_type": "markdown",
   "id": "0f5c5168",
   "metadata": {},
   "source": [
    "## Data Preprocessing"
   ]
  },
  {
   "cell_type": "code",
   "execution_count": 6,
   "id": "46edc2ad",
   "metadata": {},
   "outputs": [
    {
     "name": "stderr",
     "output_type": "stream",
     "text": [
      "[nltk_data] Downloading package punkt to\n",
      "[nltk_data]     C:\\Users\\Dorian\\AppData\\Roaming\\nltk_data...\n",
      "[nltk_data]   Package punkt is already up-to-date!\n",
      "[nltk_data] Downloading package stopwords to\n",
      "[nltk_data]     C:\\Users\\Dorian\\AppData\\Roaming\\nltk_data...\n",
      "[nltk_data]   Package stopwords is already up-to-date!\n"
     ]
    }
   ],
   "source": [
    "import nltk\n",
    "nltk.download('punkt')\n",
    "nltk.download('stopwords')\n",
    "import re #regex\n",
    "\n",
    "#to tokenize\n",
    "from nltk.tokenize import word_tokenize\n",
    "#to remove stop words\n",
    "from nltk.corpus import stopwords\n",
    "#for stemming\n",
    "from nltk.stem.porter import PorterStemmer #voir pour stem en français ou lemmatization -> utilisation dictionnaire\n",
    "\n",
    "def dataPreprocessing(text):\n",
    "    #to remove punctation\n",
    "    text = re.sub(r'[.,\"\\'-?:!;]', '', text)\n",
    "\n",
    "    #transfrom in an array of words\n",
    "    words = word_tokenize(text)\n",
    "\n",
    "    #we remove stop_words from words\n",
    "    stop_words = set(stopwords.words('english'))\n",
    "    words = [w for w in words if not w in stop_words]\n",
    "\n",
    "    #we stem the words\n",
    "    porter = PorterStemmer()\n",
    "    stems = []\n",
    "    for w in words:\n",
    "        stems.append(porter.stem(w))\n",
    "\n",
    "    return stems"
   ]
  },
  {
   "cell_type": "code",
   "execution_count": 15,
   "id": "2787773f",
   "metadata": {},
   "outputs": [],
   "source": [
    "Comments = []\n",
    "Marks=[]\n",
    "\n",
    "target_conversion = {\n",
    "    'neutral': 0,\n",
    "    'positive': 1,\n",
    "    'negative': -1\n",
    "}\n",
    "\n",
    "for index, row in train_df.iterrows():\n",
    "    # Accédez aux valeurs de chaque colonne dans la ligne courante\n",
    "    #Comments.append(dataPreprocessing(row['selected_text']))\n",
    "    Comments.append(dataPreprocessing(extract_selected_text(row['text'])))\n",
    "    Marks.append(target_conversion[row['sentiment']])"
   ]
  },
  {
   "cell_type": "markdown",
   "id": "9ec3beae",
   "metadata": {},
   "source": [
    "## Vectorization"
   ]
  },
  {
   "cell_type": "code",
   "execution_count": 16,
   "id": "b8e51997",
   "metadata": {},
   "outputs": [
    {
     "name": "stdout",
     "output_type": "stream",
     "text": [
      "Requirement already satisfied: tqdm in c:\\users\\dorian\\miniconda3\\lib\\site-packages (4.65.0)\n",
      "Requirement already satisfied: colorama in c:\\users\\dorian\\miniconda3\\lib\\site-packages (from tqdm) (0.4.6)\n"
     ]
    }
   ],
   "source": [
    "import math\n",
    "from tqdm import tqdm\n",
    "!pip install --upgrade tqdm\n",
    "\n",
    "def wordsOccurence(commentPrepocessed, ListOfWords, CounterForWordsInDocuments):\n",
    "    FrequencyOfWords = [0] * len(ListOfWords)\n",
    "    length = len(commentPrepocessed)\n",
    "\n",
    "    for w in commentPrepocessed:\n",
    "        if w not in ListOfWords:\n",
    "            ListOfWords.append(w)\n",
    "            FrequencyOfWords.append(1 / length)\n",
    "            CounterForWordsInDocuments.append(1)\n",
    "        else:\n",
    "            index = ListOfWords.index(w)\n",
    "            if FrequencyOfWords[index] == 0:\n",
    "                CounterForWordsInDocuments[index] += 1\n",
    "            FrequencyOfWords[index] += 1 / length\n",
    "    return ListOfWords, FrequencyOfWords, CounterForWordsInDocuments\n",
    "\n",
    "def inverseDocumentFrequency(CounterForWordsInDocuments, numberOfComments):\n",
    "    CommentsIDF = []\n",
    "    for i in (range(len(CounterForWordsInDocuments))):\n",
    "        CommentsIDF.append(math.log10(numberOfComments / CounterForWordsInDocuments[i]))\n",
    "    return CommentsIDF\n",
    "\n",
    "def TD_IDF(CommentsTermFrequency, CommentsIDF):\n",
    "    Results = []\n",
    "    for i in tqdm(range(len(CommentsTermFrequency)), desc=\"Calculating TF-IDF\"):\n",
    "        tempResult = []\n",
    "        for j in (range(len(CommentsTermFrequency[i]))):\n",
    "            tempResult.append(CommentsTermFrequency[i][j] * CommentsIDF[j])\n",
    "        Results.append(tempResult)\n",
    "    return Results\n"
   ]
  },
  {
   "cell_type": "code",
   "execution_count": 17,
   "id": "b527282c",
   "metadata": {},
   "outputs": [],
   "source": [
    "import pandas as pd\n",
    "\n",
    "\n",
    "def vectorize(Comments):\n",
    "    CommentsTermFrequency=[]\n",
    "    ListOfWords=[]\n",
    "    CounterForWordsInDocuments=[]#if a word appears at least once in a comment, we add 1\n",
    "    for commentPrepocessed in Comments:\n",
    "        ListOfWords, FrequencyOfWords, CounterForWordsInDocuments = wordsOccurence(commentPrepocessed, ListOfWords, CounterForWordsInDocuments)\n",
    "        CommentsTermFrequency.append(FrequencyOfWords)\n",
    "\n",
    "    numberOfComments=len(Comments)\n",
    "\n",
    "    CommentsIDF=inverseDocumentFrequency(CounterForWordsInDocuments, numberOfComments)\n",
    "\n",
    "    ResultsTF_IDF = TD_IDF(CommentsTermFrequency, CommentsIDF)\n",
    "\n",
    "    df = pd.DataFrame(ResultsTF_IDF, columns=ListOfWords)\n",
    "    df = df.fillna(0)\n",
    "\n",
    "    return df"
   ]
  },
  {
   "cell_type": "code",
   "execution_count": 18,
   "id": "897c3ee9",
   "metadata": {},
   "outputs": [
    {
     "name": "stderr",
     "output_type": "stream",
     "text": [
      "Calculating TF-IDF: 100%|███████████████████████████████████████████████████████| 24732/24732 [00:38<00:00, 648.58it/s]\n"
     ]
    }
   ],
   "source": [
    "df1 = pd.DataFrame(Marks, columns=['sentiment'])\n",
    "df2 = vectorize(Comments)"
   ]
  },
  {
   "cell_type": "code",
   "execution_count": 19,
   "id": "6e88d179",
   "metadata": {},
   "outputs": [
    {
     "name": "stdout",
     "output_type": "stream",
     "text": [
      "          sentiment          good          luck       auction          judg  \\\n",
      "count  24732.000000  24732.000000  24732.000000  24732.000000  24732.000000   \n",
      "mean       0.028627      0.013953      0.002060      0.000059      0.000410   \n",
      "std        0.770806      0.072706      0.035123      0.009312      0.027820   \n",
      "min       -1.000000      0.000000      0.000000      0.000000      0.000000   \n",
      "25%       -1.000000      0.000000      0.000000      0.000000      0.000000   \n",
      "50%        0.000000      0.000000      0.000000      0.000000      0.000000   \n",
      "75%        1.000000      0.000000      0.000000      0.000000      0.000000   \n",
      "max        1.000000      1.279650      2.332561      1.464420      3.393259   \n",
      "\n",
      "               book          look         cover         enjoy         watch  \\\n",
      "count  24732.000000  24732.000000  24732.000000  24732.000000  24732.000000   \n",
      "mean       0.002424      0.007946      0.000790      0.003202      0.008926   \n",
      "std        0.037460      0.057342      0.021584      0.042302      0.072360   \n",
      "min        0.000000      0.000000      0.000000      0.000000      0.000000   \n",
      "25%        0.000000      0.000000      0.000000      0.000000      0.000000   \n",
      "50%        0.000000      0.000000      0.000000      0.000000      0.000000   \n",
      "75%        0.000000      0.000000      0.000000      0.000000      0.000000   \n",
      "max        2.217168      1.576355      1.379895      2.101003      1.619473   \n",
      "\n",
      "       ...         whore        coloni       sunbath         hindi  \\\n",
      "count  ...  24732.000000  24732.000000  24732.000000  24732.000000   \n",
      "mean   ...      0.000020      0.000020      0.000018      0.000030   \n",
      "std    ...      0.003104      0.003104      0.002794      0.004656   \n",
      "min    ...      0.000000      0.000000      0.000000      0.000000   \n",
      "25%    ...      0.000000      0.000000      0.000000      0.000000   \n",
      "50%    ...      0.000000      0.000000      0.000000      0.000000   \n",
      "75%    ...      0.000000      0.000000      0.000000      0.000000   \n",
      "max    ...      0.488140      0.488140      0.439326      0.732210   \n",
      "\n",
      "            suffici            gg          afro  mishaneedschapstick  \\\n",
      "count  24732.000000  24732.000000  24732.000000         24732.000000   \n",
      "mean       0.000016      0.000089      0.000018             0.000030   \n",
      "std        0.002540      0.013968      0.002794             0.004656   \n",
      "min        0.000000      0.000000      0.000000             0.000000   \n",
      "25%        0.000000      0.000000      0.000000             0.000000   \n",
      "50%        0.000000      0.000000      0.000000             0.000000   \n",
      "75%        0.000000      0.000000      0.000000             0.000000   \n",
      "max        0.399387      2.196630      0.439326             0.732210   \n",
      "\n",
      "                daw     seventeen  \n",
      "count  24732.000000  24732.000000  \n",
      "mean       0.000044      0.000178  \n",
      "std        0.006984      0.027936  \n",
      "min        0.000000      0.000000  \n",
      "25%        0.000000      0.000000  \n",
      "50%        0.000000      0.000000  \n",
      "75%        0.000000      0.000000  \n",
      "max        1.098315      4.393259  \n",
      "\n",
      "[8 rows x 9391 columns]\n",
      "       sentiment      good     luck  auction      judg      book      look  \\\n",
      "0              1  0.426550  0.77752  1.46442  0.000000  0.000000  0.000000   \n",
      "1              0  0.000000  0.00000  0.00000  0.848315  0.554292  0.394089   \n",
      "2             -1  0.000000  0.00000  0.00000  0.000000  0.000000  0.000000   \n",
      "3             -1  0.000000  0.00000  0.00000  0.000000  0.000000  0.000000   \n",
      "4             -1  0.639825  0.00000  0.00000  0.000000  0.000000  0.000000   \n",
      "...          ...       ...      ...      ...       ...       ...       ...   \n",
      "24727         -1  0.000000  0.00000  0.00000  0.000000  0.000000  0.000000   \n",
      "24728          0  0.000000  0.00000  0.00000  0.000000  0.000000  0.000000   \n",
      "24729          1  0.000000  0.00000  0.00000  0.000000  0.000000  0.000000   \n",
      "24730         -1  0.000000  0.00000  0.00000  0.000000  0.000000  0.000000   \n",
      "24731          1  0.000000  0.00000  0.00000  0.000000  0.000000  0.000000   \n",
      "\n",
      "          cover     enjoy     watch  ...  whore  coloni  sunbath  hindi  \\\n",
      "0      0.000000  0.000000  0.000000  ...    0.0     0.0      0.0    0.0   \n",
      "1      0.689948  0.000000  0.000000  ...    0.0     0.0      0.0    0.0   \n",
      "2      0.000000  0.700334  0.539824  ...    0.0     0.0      0.0    0.0   \n",
      "3      0.000000  0.000000  0.000000  ...    0.0     0.0      0.0    0.0   \n",
      "4      0.000000  0.000000  0.000000  ...    0.0     0.0      0.0    0.0   \n",
      "...         ...       ...       ...  ...    ...     ...      ...    ...   \n",
      "24727  0.000000  0.000000  0.000000  ...    0.0     0.0      0.0    0.0   \n",
      "24728  0.000000  0.000000  0.000000  ...    0.0     0.0      0.0    0.0   \n",
      "24729  0.000000  0.000000  0.000000  ...    0.0     0.0      0.0    0.0   \n",
      "24730  0.000000  0.000000  0.000000  ...    0.0     0.0      0.0    0.0   \n",
      "24731  0.000000  0.000000  0.000000  ...    0.0     0.0      0.0    0.0   \n",
      "\n",
      "       suffici   gg  afro  mishaneedschapstick  daw  seventeen  \n",
      "0          0.0  0.0   0.0                  0.0  0.0        0.0  \n",
      "1          0.0  0.0   0.0                  0.0  0.0        0.0  \n",
      "2          0.0  0.0   0.0                  0.0  0.0        0.0  \n",
      "3          0.0  0.0   0.0                  0.0  0.0        0.0  \n",
      "4          0.0  0.0   0.0                  0.0  0.0        0.0  \n",
      "...        ...  ...   ...                  ...  ...        ...  \n",
      "24727      0.0  0.0   0.0                  0.0  0.0        0.0  \n",
      "24728      0.0  0.0   0.0                  0.0  0.0        0.0  \n",
      "24729      0.0  0.0   0.0                  0.0  0.0        0.0  \n",
      "24730      0.0  0.0   0.0                  0.0  0.0        0.0  \n",
      "24731      0.0  0.0   0.0                  0.0  0.0        0.0  \n",
      "\n",
      "[24732 rows x 9391 columns]\n"
     ]
    }
   ],
   "source": [
    "df = pd.concat([df1, df2], axis = 1)\n",
    "\n",
    "print(df.describe(include='all'))\n",
    "print(df)"
   ]
  },
  {
   "cell_type": "markdown",
   "id": "36c8557e",
   "metadata": {},
   "source": [
    "## Data Prediction"
   ]
  },
  {
   "cell_type": "code",
   "execution_count": 20,
   "id": "77e35f56",
   "metadata": {},
   "outputs": [
    {
     "name": "stdout",
     "output_type": "stream",
     "text": [
      "F1 score: 0.6496621294318358\n"
     ]
    }
   ],
   "source": [
    "import seaborn as sns\n",
    "import matplotlib.pyplot as plt\n",
    "from sklearn.metrics import confusion_matrix, f1_score\n",
    "from sklearn.linear_model import LogisticRegression\n",
    "from sklearn.model_selection import train_test_split\n",
    "\n",
    "X = df2\n",
    "y = df1['sentiment']\n",
    "\n",
    "model = LogisticRegression(max_iter=5000)  # Initialize the model with 5000 iterations\n",
    "\n",
    "X_train, X_val, y_train, y_val = train_test_split(X, y, test_size=0.2, random_state=42)  # Split the data into train and validation sets\n",
    "\n",
    "model.fit(X_train, y_train)  # Train the model on the training data\n",
    "\n",
    "predictions = model.predict(X_val)  # Make predictions on the validation data\n",
    "\n",
    "# Calculate the F1 score\n",
    "f1 = f1_score(y_val, predictions, average='weighted')\n",
    "\n",
    "# Print the F1 score\n",
    "print(\"F1 score:\", f1)\n"
   ]
  },
  {
   "cell_type": "code",
   "execution_count": 21,
   "id": "af1d248b",
   "metadata": {},
   "outputs": [
    {
     "data": {
      "image/png": "[encoded data removed]",
      "text/plain": [
       "<Figure size 640x480 with 2 Axes>"
      ]
     },
     "metadata": {},
     "output_type": "display_data"
    }
   ],
   "source": [
    "# Create a confusion matrix\n",
    "cm = confusion_matrix(y_val, predictions)\n",
    "\n",
    "# Plot the confusion matrix using Seaborn\n",
    "sns.heatmap(cm, annot=True, fmt=\"d\", cmap=\"Blues\")\n",
    "\n",
    "# Add labels, title, and axis ticks\n",
    "plt.xlabel(\"Predicted Labels\")\n",
    "plt.ylabel(\"True Labels\")\n",
    "plt.title(\"Confusion Matrix\")\n",
    "plt.show()"
   ]
  },
  {
   "cell_type": "code",
   "execution_count": 29,
   "id": "8ec8b3be",
   "metadata": {},
   "outputs": [
    {
     "data": {
      "image/png": "[encoded data removed]",
      "text/plain": [
       "<Figure size 640x480 with 1 Axes>"
      ]
     },
     "metadata": {},
     "output_type": "display_data"
    }
   ],
   "source": [
    "lengths = [sum(len(word) for word in sublist) + len(sublist) - 1 for sublist in Comments]\n",
    "\n",
    "# Build the histogram\n",
    "plt.hist(lengths, bins=20)  # You can adjust the number of bins as needed\n",
    "\n",
    "# Add labels and a title\n",
    "plt.xlabel('String Lengths')\n",
    "plt.ylabel('Frequency')\n",
    "plt.title('Histogram of String Lengths')\n",
    "\n",
    "# Display the histogram\n",
    "plt.show()\n"
   ]
  },
  {
   "cell_type": "code",
   "execution_count": 47,
   "id": "e9d644d7",
   "metadata": {},
   "outputs": [
    {
     "name": "stderr",
     "output_type": "stream",
     "text": [
      "Calculating TF-IDF: 100%|███████████████████████████████████████████████████████| 19285/19285 [00:30<00:00, 623.59it/s]\n"
     ]
    }
   ],
   "source": [
    "import pandas as pd\n",
    "\n",
    "df1B = pd.DataFrame(Marks, columns=['sentiment'])\n",
    "Comments2 = [sublist for sublist in Comments if len(sublist) > 2]\n",
    "df2B = vectorize(Comments2)\n",
    "\n",
    "# Obtenir les indices des lignes à conserver\n",
    "indices_to_keep = [index for index, sublist in enumerate(Comments) if len(sublist) > 2]\n",
    "\n",
    "# Filtrer les lignes correspondantes dans df1B\n",
    "df1B = df1B.iloc[indices_to_keep]\n",
    "\n",
    "# Maintenant, vous avez df1B et df2B avec les mêmes lignes supprimées\n"
   ]
  },
  {
   "cell_type": "code",
   "execution_count": 58,
   "id": "12b2d469",
   "metadata": {},
   "outputs": [
    {
     "name": "stdout",
     "output_type": "stream",
     "text": [
      "                                                    text\n",
      "0                                      good luck auction\n",
      "1                                   judg book look cover\n",
      "2                                     enjoy watch mental\n",
      "3                                      call belgium suck\n",
      "4                                              good mood\n",
      "...                                                  ...\n",
      "24727  get closer log left hand swollen ` wear wed ri...\n",
      "24728                                     i ` draw email\n",
      "24729                                          see thank\n",
      "24730                             internet th grade dive\n",
      "24731                  content content stori life remind\n",
      "\n",
      "[24732 rows x 1 columns]\n",
      "Jaccard Score: 0.0037102720866196855\n",
      "(24732, 1)\n",
      "(24732, 1)\n"
     ]
    }
   ],
   "source": [
    "df3B = pd.DataFrame(train_df, columns=['selected_text'])\n",
    "df3B = df3B\n",
    "import pandas as pd\n",
    "\n",
    "# Concaténer les mots avec des espaces dans chaque sous-liste\n",
    "concatenated_comments = [' '.join(sublist) for sublist in Comments]\n",
    "\n",
    "# Créer le DataFrame df4B\n",
    "df4B = pd.DataFrame(concatenated_comments, columns=['text'])\n",
    "\n",
    "# Afficher le DataFrame df4B\n",
    "print(df4B)\n",
    "\n",
    "             \n",
    "             \n",
    "import numpy as np\n",
    "\n",
    "def jaccard_score(df1, df2):\n",
    "    set1 = set(df1.values.flatten())\n",
    "    set2 = set(df2.values.flatten())\n",
    "    \n",
    "    intersection = len(set1.intersection(set2))\n",
    "    union = len(set1.union(set2))\n",
    "    \n",
    "    jaccard = intersection / union\n",
    "    return jaccard\n",
    "\n",
    "# Exemple d'utilisation\n",
    "score = jaccard_score(df4B, df3B)\n",
    "print(\"Jaccard Score:\", score)\n",
    "print(df4B.shape)\n",
    "print(df3B.shape)"
   ]
  },
  {
   "cell_type": "code",
   "execution_count": 48,
   "id": "7128f305",
   "metadata": {},
   "outputs": [
    {
     "name": "stdout",
     "output_type": "stream",
     "text": [
      "F1 score: 0.6419513841144551\n"
     ]
    }
   ],
   "source": [
    "import seaborn as sns\n",
    "import matplotlib.pyplot as plt\n",
    "from sklearn.metrics import confusion_matrix, f1_score\n",
    "from sklearn.linear_model import LogisticRegression\n",
    "from sklearn.model_selection import train_test_split\n",
    "\n",
    "X = df2B\n",
    "y = df1B['sentiment']\n",
    "\n",
    "model = LogisticRegression(max_iter=5000)  # Initialize the model with 5000 iterations\n",
    "\n",
    "X_train, X_val, y_train, y_val = train_test_split(X, y, test_size=0.2, random_state=42, stratify=y)  # Split the data into train and validation sets\n",
    "\n",
    "model.fit(X_train, y_train)  # Train the model on the training data\n",
    "\n",
    "predictions = model.predict(X_val)  # Make predictions on the validation data\n",
    "\n",
    "# Calculate the F1 score\n",
    "f1 = f1_score(y_val, predictions, average='weighted')\n",
    "\n",
    "# Print the F1 score\n",
    "print(\"F1 score:\", f1)\n"
   ]
  },
  {
   "cell_type": "code",
   "execution_count": 49,
   "id": "7bd4417c",
   "metadata": {},
   "outputs": [
    {
     "data": {
      "image/png": "[encoded data removed]",
      "text/plain": [
       "<Figure size 640x480 with 2 Axes>"
      ]
     },
     "metadata": {},
     "output_type": "display_data"
    }
   ],
   "source": [
    "# Create a confusion matrix\n",
    "cm = confusion_matrix(y_val, predictions)\n",
    "\n",
    "# Plot the confusion matrix using Seaborn\n",
    "sns.heatmap(cm, annot=True, fmt=\"d\", cmap=\"Blues\")\n",
    "\n",
    "# Add labels, title, and axis ticks\n",
    "plt.xlabel(\"Predicted Labels\")\n",
    "plt.ylabel(\"True Labels\")\n",
    "plt.title(\"Confusion Matrix\")\n",
    "plt.show()"
   ]
  },
  {
   "cell_type": "code",
   "execution_count": 13,
   "id": "0209f12c",
   "metadata": {},
   "outputs": [
    {
     "name": "stdout",
     "output_type": "stream",
     "text": [
      "F1 score SVM: 0.8162367117292044\n"
     ]
    }
   ],
   "source": [
    "import seaborn as sns\n",
    "import matplotlib.pyplot as plt\n",
    "from sklearn.metrics import confusion_matrix, f1_score\n",
    "from sklearn.svm import SVC\n",
    "from sklearn.model_selection import train_test_split\n",
    "\n",
    "X = df2\n",
    "y = df1['sentiment']\n",
    "\n",
    "model = SVC()  # Initialize the SVM model\n",
    "\n",
    "X_train, X_val, y_train, y_val = train_test_split(X, y, test_size=0.2, random_state=42)  # Split the data into train and validation sets\n",
    "\n",
    "model.fit(X_train, y_train)  # Train the model on the training data\n",
    "\n",
    "predictions = model.predict(X_val)  # Make predictions on the validation data\n",
    "\n",
    "# Calculate the F1 score\n",
    "f1 = f1_score(y_val, predictions, average='weighted')\n",
    "\n",
    "# Print the F1 score\n",
    "print(\"F1 score SVM:\", f1)\n"
   ]
  },
  {
   "cell_type": "code",
   "execution_count": 12,
   "id": "78c33a7e",
   "metadata": {},
   "outputs": [
    {
     "name": "stderr",
     "output_type": "stream",
     "text": [
      "Calculating TF-IDF: 100%|████████████████████████████████████████████████████████| 2748/2748 [00:00<00:00, 2897.47it/s]\n"
     ]
    }
   ],
   "source": [
    "import seaborn as sns\n",
    "import matplotlib.pyplot as plt\n",
    "from sklearn.metrics import confusion_matrix, f1_score\n",
    "from sklearn.linear_model import LogisticRegression\n",
    "\n",
    "X = df2\n",
    "y = df1['sentiment']\n",
    "\n",
    "model = LogisticRegression(max_iter=5000)  # Initialize the model with 5000 iterations\n",
    "\n",
    "val_Comments = []\n",
    "\n",
    "for index, row in test_df.iterrows():\n",
    "    val_Comments.append(dataPreprocessing(row['selected_text']))\n",
    "\n",
    "val_df2 = vectorize(val_Comments)\n",
    "\n",
    "common_columns = X.columns.intersection(val_df2.columns)  # Get the common column names\n",
    "\n",
    "val_X = val_df2[common_columns]  # Select only the common columns in the validation data\n",
    "\n",
    "model.fit(X[common_columns], y)  # Train the model on the data\n",
    "\n",
    "predictions = model.predict(val_X)  # Make predictions on the validation data\n",
    "\n",
    "import pandas as pd\n",
    "\n",
    "# Replace the numeric predictions with corresponding sentiment labels\n",
    "#predictions_labels = ['negative' if p == -1 else 'neutral' if p == 0 else 'positive' for p in predictions]\n",
    "\n",
    "# Create a DataFrame with predictions and the same index as test_df\n",
    "predictions_df = pd.DataFrame(predictions, columns=['sentiment'], index=test_df['textID'])\n",
    "\n",
    "\n",
    "# Export the predictions to a CSV file\n",
    "predictions_df.to_csv('predictions.csv')"
   ]
  },
  {
   "cell_type": "code",
   "execution_count": 13,
   "id": "8fbd0773",
   "metadata": {},
   "outputs": [
    {
     "name": "stderr",
     "output_type": "stream",
     "text": [
      "Calculating TF-IDF: 100%|████████████████████████████████████████████████████████| 2748/2748 [00:00<00:00, 2965.42it/s]\n"
     ]
    }
   ],
   "source": [
    "import seaborn as sns\n",
    "import matplotlib.pyplot as plt\n",
    "from sklearn.metrics import confusion_matrix, f1_score\n",
    "from sklearn.ensemble import RandomForestClassifier\n",
    "\n",
    "X = df2\n",
    "y = df1['sentiment']\n",
    "\n",
    "model = RandomForestClassifier(n_estimators=100, random_state=42)  # Initialize the Random Forest classifier with 100 trees\n",
    "\n",
    "val_Comments = []\n",
    "\n",
    "for index, row in test_df.iterrows():\n",
    "    val_Comments.append(dataPreprocessing(row['selected_text']))\n",
    "\n",
    "val_df2 = vectorize(val_Comments)\n",
    "\n",
    "common_columns = X.columns.intersection(val_df2.columns)  # Get the common column names\n",
    "\n",
    "val_X = val_df2[common_columns]  # Select only the common columns in the validation data\n",
    "\n",
    "model.fit(X[common_columns], y)  # Train the model on the data\n",
    "\n",
    "predictions = model.predict(val_X)  # Make predictions on the validation data\n",
    "\n",
    "import pandas as pd\n",
    "\n",
    "# Replace the numeric predictions with corresponding sentiment labels\n",
    "#predictions_labels = ['negative' if p == -1 else 'neutral' if p == 0 else 'positive' for p in predictions]\n",
    "\n",
    "# Create a DataFrame with predictions and the same index as test_df\n",
    "predictions_df = pd.DataFrame(predictions, columns=['sentiment'], index=test_df['textID'])\n",
    "\n",
    "# Export the predictions to a CSV file\n",
    "predictions_df.to_csv('predictions.csv')\n"
   ]
  },
  {
   "cell_type": "code",
   "execution_count": 14,
   "id": "5cb277ab",
   "metadata": {},
   "outputs": [
    {
     "name": "stdout",
     "output_type": "stream",
     "text": [
      "Texte extrait : woke sleeping arm acting hurts bad\n"
     ]
    }
   ],
   "source": [
    "#!pip install spacy\n",
    "import spacy\n",
    "from autocorrect import Speller\n",
    "\n",
    "def extract_selected_text(text):\n",
    "    # Charger le modèle linguistique anglais de SpaCy\n",
    "    nlp = spacy.load(\"en_core_web_sm\")\n",
    "    \n",
    "    # Créer une instance du correcteur orthographique\n",
    "    spell = Speller(lang='en')\n",
    "\n",
    "    # Correction orthographique du texte\n",
    "    text = spell(text)\n",
    "    \n",
    "    # Analyser le texte\n",
    "    doc = nlp(text)\n",
    "    \n",
    "    # Extraire les parties de la phrase qui sont des noms, des verbes ou des adjectifs\n",
    "    selected_tokens = [token.text for token in doc if token.pos_ in ['NOUN', 'VERB', 'ADJ']]\n",
    "    \n",
    "    # Rejoindre les tokens sélectionnés pour former la sous-phrase\n",
    "    selected_text = ' '.join(selected_tokens)\n",
    "    \n",
    "    return selected_text\n",
    "\n",
    "# Exemple d'utilisation\n",
    "text = \"Omg I just woke up after only sleeping for 3hrs, and my arm is just aching... It hurts so bad\"\n",
    "selected_text = extract_selected_text(text)\n",
    "print(\"Texte extrait :\", selected_text)\n"
   ]
  },
  {
   "cell_type": "code",
   "execution_count": 19,
   "id": "d935eea6",
   "metadata": {},
   "outputs": [
    {
     "name": "stderr",
     "output_type": "stream",
     "text": [
      "Some weights of the model checkpoint at bert-base-uncased were not used when initializing BertModel: ['cls.predictions.bias', 'cls.predictions.transform.dense.weight', 'cls.seq_relationship.bias', 'cls.predictions.transform.dense.bias', 'cls.seq_relationship.weight', 'cls.predictions.transform.LayerNorm.bias', 'cls.predictions.transform.LayerNorm.weight']\n",
      "- This IS expected if you are initializing BertModel from the checkpoint of a model trained on another task or with another architecture (e.g. initializing a BertForSequenceClassification model from a BertForPreTraining model).\n",
      "- This IS NOT expected if you are initializing BertModel from the checkpoint of a model that you expect to be exactly identical (initializing a BertForSequenceClassification model from a BertForSequenceClassification model).\n"
     ]
    }
   ],
   "source": [
    "import pandas as pd\n",
    "from sklearn.linear_model import LogisticRegression\n",
    "from sklearn.model_selection import train_test_split\n",
    "from transformers import BertTokenizer, BertModel\n",
    "import torch\n",
    "\n",
    "# Charger les données d'entraînement et de test à partir des fichiers CSV\n",
    "train_df = pd.read_csv('train.csv')\n",
    "test_df = pd.read_csv('test.csv')\n",
    "\n",
    "#train_df['selected_text'] = train_df['text'].apply(extract_selected_text)\n",
    "#test_df['selected_text'] = test_df['text'].apply(extract_selected_text)\n",
    "\n",
    "# Séparer les caractéristiques (X) et les étiquettes (y) pour l'entraînement\n",
    "X = train_df['selected_text']\n",
    "y = train_df['sentiment']\n",
    "\n",
    "# Séparer les données en ensembles d'entraînement et de validation\n",
    "X_train, X_val, y_train, y_val = train_test_split(X, y, test_size=0.2, random_state=42)\n",
    "\n",
    "# Instancier le tokenizer BERT\n",
    "tokenizer = BertTokenizer.from_pretrained('bert-base-uncased', do_lower_case=True)\n",
    "\n",
    "# Encodage des textes en entrée pour BERT\n",
    "X_train_encoded = tokenizer.batch_encode_plus(\n",
    "    X_train.astype(str).tolist(),\n",
    "    add_special_tokens=True,\n",
    "    padding='longest',\n",
    "    truncation=True,\n",
    "    max_length=256,\n",
    "    return_attention_mask=True,\n",
    "    return_tensors='pt'\n",
    ")\n",
    "\n",
    "X_val_encoded = tokenizer.batch_encode_plus(\n",
    "    X_val.astype(str).tolist(),\n",
    "    add_special_tokens=True,\n",
    "    padding='longest',\n",
    "    truncation=True,\n",
    "    max_length=256,\n",
    "    return_attention_mask=True,\n",
    "    return_tensors='pt'\n",
    ")\n",
    "\n",
    "# Créer des tenseurs PyTorch à partir des données encodées\n",
    "input_ids_train = X_train_encoded['input_ids']\n",
    "attention_masks_train = X_train_encoded['attention_mask']\n",
    "\n",
    "input_ids_val = X_val_encoded['input_ids']\n",
    "attention_masks_val = X_val_encoded['attention_mask']\n",
    "\n",
    "# Charger le modèle BERT pré-entraîné\n",
    "model = BertModel.from_pretrained('bert-base-uncased')\n",
    "\n",
    "# Extraire les caractéristiques des données d'entraînement et de validation\n",
    "with torch.no_grad():\n",
    "    train_features = model(input_ids_train, attention_masks_train)[0][:, 0, :].numpy()\n",
    "    val_features = model(input_ids_val, attention_masks_val)[0][:, 0, :].numpy()\n",
    "\n",
    "# Initialiser le modèle de régression logistique\n",
    "logreg = LogisticRegression(max_iter=5000)\n",
    "\n",
    "# Entraîner le modèle de régression logistique sur les caractéristiques extraites\n",
    "logreg.fit(train_features, y_train)\n",
    "\n",
    "# Préparation des données de test\n",
    "X_test = test_df['selected_text']\n",
    "test_ids = test_df['textID']\n",
    "\n",
    "# Encodage des textes de test\n",
    "X_test_encoded = tokenizer.batch_encode_plus(\n",
    "    X_test.astype(str).tolist(),\n",
    "    add_special_tokens=True,\n",
    "    padding='longest',\n",
    "    truncation=True,\n",
    "    max_length=256,\n",
    "    return_attention_mask=True,\n",
    "    return_tensors='pt'\n",
    ")\n",
    "\n",
    "# Créer des tenseurs PyTorch à partir des données encodées de test\n",
    "input_ids_test = X_test_encoded['input_ids']\n",
    "attention_masks_test = X_test_encoded['attention_mask']\n",
    "\n",
    "# Extraire les caractéristiques des données de test\n",
    "with torch.no_grad():\n",
    "    test_features = model(input_ids_test, attention_masks_test)[0][:, 0, :].numpy()\n",
    "\n",
    "# Faire des prédictions sur les données de test\n",
    "predictions = logreg.predict(test_features)\n",
    "\n",
    "# Créer un DataFrame avec les prédictions et les identifiants\n",
    "predictions_df = pd.DataFrame({'textID': test_ids, 'sentiment': predictions})\n",
    "\n",
    "# Exporter les prédictions au format CSV\n",
    "predictions_df.to_csv('predictions.csv', index=False)\n"
   ]
  },
  {
   "cell_type": "code",
   "execution_count": 3,
   "id": "b03cdedd",
   "metadata": {},
   "outputs": [
    {
     "name": "stderr",
     "output_type": "stream",
     "text": [
      "Some weights of the model checkpoint at bert-base-uncased were not used when initializing BertModel: ['cls.predictions.transform.LayerNorm.weight', 'cls.predictions.transform.dense.bias', 'cls.seq_relationship.bias', 'cls.predictions.transform.LayerNorm.bias', 'cls.predictions.bias', 'cls.seq_relationship.weight', 'cls.predictions.transform.dense.weight']\n",
      "- This IS expected if you are initializing BertModel from the checkpoint of a model trained on another task or with another architecture (e.g. initializing a BertForSequenceClassification model from a BertForPreTraining model).\n",
      "- This IS NOT expected if you are initializing BertModel from the checkpoint of a model that you expect to be exactly identical (initializing a BertForSequenceClassification model from a BertForSequenceClassification model).\n"
     ]
    }
   ],
   "source": [
    "import pandas as pd\n",
    "from sklearn.linear_model import LogisticRegression\n",
    "from sklearn.model_selection import train_test_split\n",
    "from transformers import BertTokenizer, BertModel\n",
    "import torch\n",
    "import re\n",
    "from nltk.corpus import stopwords\n",
    "from nltk.stem import SnowballStemmer\n",
    "\n",
    "# Charger les données d'entraînement et de test à partir des fichiers CSV\n",
    "train_df = pd.read_csv('train.csv')\n",
    "test_df = pd.read_csv('test.csv')\n",
    "\n",
    "# Suppression de la ponctuation\n",
    "train_df['selected_text'] = train_df['selected_text'].apply(lambda x: re.sub(r'[^\\w\\s]', '', x))\n",
    "test_df['selected_text'] = test_df['selected_text'].apply(lambda x: re.sub(r'[^\\w\\s]', '', x))\n",
    "\n",
    "# Suppression des stopwords\n",
    "stop_words = set(stopwords.words('english'))\n",
    "\n",
    "train_df['selected_text'] = train_df['selected_text'].apply(lambda x: ' '.join([word for word in x.split() if word.lower() not in stop_words]))\n",
    "test_df['selected_text'] = test_df['selected_text'].apply(lambda x: ' '.join([word for word in x.split() if word.lower() not in stop_words]))\n",
    "\n",
    "# Stemming\n",
    "stemmer = SnowballStemmer('english')\n",
    "\n",
    "train_df['selected_text'] = train_df['selected_text'].apply(lambda x: ' '.join([stemmer.stem(word) for word in x.split()]))\n",
    "test_df['selected_text'] = test_df['selected_text'].apply(lambda x: ' '.join([stemmer.stem(word) for word in x.split()]))\n",
    "\n",
    "# Séparer les caractéristiques (X) et les étiquettes (y) pour l'entraînement\n",
    "X = train_df['selected_text']\n",
    "y = train_df['sentiment']\n",
    "\n",
    "# Séparer les données en ensembles d'entraînement et de validation\n",
    "X_train, X_val, y_train, y_val = train_test_split(X, y, test_size=0.2, random_state=42)\n",
    "\n",
    "# Instancier le tokenizer BERT\n",
    "tokenizer = BertTokenizer.from_pretrained('bert-base-uncased', do_lower_case=True)\n",
    "\n",
    "# Encodage des textes en entrée pour BERT\n",
    "X_train_encoded = tokenizer.batch_encode_plus(\n",
    "    X_train.astype(str).tolist(),\n",
    "    add_special_tokens=True,\n",
    "    padding='longest',\n",
    "    truncation=True,\n",
    "    max_length=256,\n",
    "    return_attention_mask=True,\n",
    "    return_tensors='pt'\n",
    ")\n",
    "\n",
    "X_val_encoded = tokenizer.batch_encode_plus(\n",
    "    X_val.astype(str).tolist(),\n",
    "    add_special_tokens=True,\n",
    "    padding='longest',\n",
    "    truncation=True,\n",
    "    max_length=256,\n",
    "    return_attention_mask=True,\n",
    "    return_tensors='pt'\n",
    ")\n",
    "\n",
    "# Créer des tenseurs PyTorch à partir des données encodées\n",
    "input_ids_train = X_train_encoded['input_ids']\n",
    "attention_masks_train = X_train_encoded['attention_mask']\n",
    "\n",
    "input_ids_val = X_val_encoded['input_ids']\n",
    "attention_masks_val = X_val_encoded['attention_mask']\n",
    "\n",
    "# Charger le modèle BERT pré-entraîné\n",
    "model = BertModel.from_pretrained('bert-base-uncased')\n",
    "\n",
    "# Extraire les caractéristiques des données d'entraînement et de validation\n",
    "with torch.no_grad():\n",
    "    train_features = model(input_ids_train, attention_masks_train)[0][:, 0, :].numpy()\n",
    "    val_features = model(input_ids_val, attention_masks_val)[0][:, 0, :].numpy()\n",
    "\n",
    "# Initialiser le modèle de régression logistique\n",
    "logreg = LogisticRegression(max_iter=5000)\n",
    "\n",
    "# Entraîner le modèle de régression logistique sur les caractéristiques extraites\n",
    "logreg.fit(train_features, y_train)\n",
    "\n",
    "# Préparation des données de test\n",
    "X_test = test_df['selected_text']\n",
    "test_ids = test_df['textID']\n",
    "\n",
    "# Encodage des textes de test\n",
    "X_test_encoded = tokenizer.batch_encode_plus(\n",
    "    X_test.astype(str).tolist(),\n",
    "    add_special_tokens=True,\n",
    "    padding='longest',\n",
    "    truncation=True,\n",
    "    max_length=256,\n",
    "    return_attention_mask=True,\n",
    "    return_tensors='pt'\n",
    ")\n",
    "\n",
    "# Créer des tenseurs PyTorch à partir des données encodées de test\n",
    "input_ids_test = X_test_encoded['input_ids']\n",
    "attention_masks_test = X_test_encoded['attention_mask']\n",
    "\n",
    "# Extraire les caractéristiques des données de test\n",
    "with torch.no_grad():\n",
    "    test_features = model(input_ids_test, attention_masks_test)[0][:, 0, :].numpy()\n",
    "\n",
    "# Faire des prédictions sur les données de test\n",
    "predictions = logreg.predict(test_features)\n",
    "\n",
    "# Créer un DataFrame avec les prédictions et les identifiants\n",
    "predictions_df = pd.DataFrame({'textID': test_ids, 'sentiment': predictions})\n",
    "\n",
    "# Exporter les prédictions au format CSV\n",
    "predictions_df.to_csv('predictionsBertAmeliored.csv', index=False)\n"
   ]
  },
  {
   "cell_type": "code",
   "execution_count": 1,
   "id": "51b3fcff",
   "metadata": {},
   "outputs": [
    {
     "name": "stderr",
     "output_type": "stream",
     "text": [
      "Some weights of the model checkpoint at bert-base-uncased were not used when initializing BertModel: ['cls.seq_relationship.bias', 'cls.predictions.transform.dense.bias', 'cls.predictions.bias', 'cls.seq_relationship.weight', 'cls.predictions.transform.LayerNorm.weight', 'cls.predictions.transform.dense.weight', 'cls.predictions.transform.LayerNorm.bias']\n",
      "- This IS expected if you are initializing BertModel from the checkpoint of a model trained on another task or with another architecture (e.g. initializing a BertForSequenceClassification model from a BertForPreTraining model).\n",
      "- This IS NOT expected if you are initializing BertModel from the checkpoint of a model that you expect to be exactly identical (initializing a BertForSequenceClassification model from a BertForSequenceClassification model).\n"
     ]
    },
    {
     "name": "stdout",
     "output_type": "stream",
     "text": [
      "F1 score on training data: 0.8749828616650485\n"
     ]
    }
   ],
   "source": [
    "import pandas as pd\n",
    "from sklearn.linear_model import LogisticRegression\n",
    "from sklearn.model_selection import train_test_split\n",
    "from sklearn.metrics import f1_score\n",
    "from transformers import BertTokenizer, BertModel\n",
    "import torch\n",
    "\n",
    "# Charger les données d'entraînement et de test à partir des fichiers CSV\n",
    "train_df = pd.read_csv('train.csv')\n",
    "test_df = pd.read_csv('test.csv')\n",
    "\n",
    "# Séparer les caractéristiques (X) et les étiquettes (y) pour l'entraînement\n",
    "X = train_df['selected_text']\n",
    "y = train_df['sentiment']\n",
    "\n",
    "# Séparer les données en ensembles d'entraînement et de validation\n",
    "X_train, X_val, y_train, y_val = train_test_split(X, y, test_size=0.2, random_state=42)\n",
    "\n",
    "# Instancier le tokenizer BERT\n",
    "tokenizer = BertTokenizer.from_pretrained('bert-base-uncased', do_lower_case=True)\n",
    "\n",
    "# Encodage des textes en entrée pour BERT\n",
    "X_train_encoded = tokenizer.batch_encode_plus(\n",
    "    X_train.astype(str).tolist(),\n",
    "    add_special_tokens=True,\n",
    "    padding='longest',\n",
    "    truncation=True,\n",
    "    max_length=256,\n",
    "    return_attention_mask=True,\n",
    "    return_tensors='pt'\n",
    ")\n",
    "\n",
    "X_val_encoded = tokenizer.batch_encode_plus(\n",
    "    X_val.astype(str).tolist(),\n",
    "    add_special_tokens=True,\n",
    "    padding='longest',\n",
    "    truncation=True,\n",
    "    max_length=256,\n",
    "    return_attention_mask=True,\n",
    "    return_tensors='pt'\n",
    ")\n",
    "\n",
    "# Créer des tenseurs PyTorch à partir des données encodées\n",
    "input_ids_train = X_train_encoded['input_ids']\n",
    "attention_masks_train = X_train_encoded['attention_mask']\n",
    "\n",
    "input_ids_val = X_val_encoded['input_ids']\n",
    "attention_masks_val = X_val_encoded['attention_mask']\n",
    "\n",
    "# Charger le modèle BERT pré-entraîné\n",
    "model = BertModel.from_pretrained('bert-base-uncased')\n",
    "\n",
    "# Extraire les caractéristiques des données d'entraînement et de validation\n",
    "with torch.no_grad():\n",
    "    train_features = model(input_ids_train, attention_masks_train)[0][:, 0, :].numpy()\n",
    "    val_features = model(input_ids_val, attention_masks_val)[0][:, 0, :].numpy()\n",
    "\n",
    "# Initialiser le modèle de régression logistique\n",
    "logreg = LogisticRegression(max_iter=5000)\n",
    "\n",
    "# Entraîner le modèle de régression logistique sur les caractéristiques extraites\n",
    "logreg.fit(train_features, y_train)\n",
    "\n",
    "# Prédictions sur les données d'entraînement\n",
    "y_train_pred = logreg.predict(train_features)\n",
    "\n",
    "# Supposons que les étiquettes véritables pour les données d'entraînement soient dans y_train_true\n",
    "y_train_true = y_train\n",
    "\n",
    "# Calculer le score F1 sur les données d'entraînement\n",
    "f1_train = f1_score(y_train_true, y_train_pred, average='weighted')\n",
    "\n",
    "# Afficher le score F1 sur les données d'entraînement\n",
    "print(\"F1 score on training data:\", f1_train)\n"
   ]
  },
  {
   "cell_type": "code",
   "execution_count": null,
   "id": "3c74f61a",
   "metadata": {},
   "outputs": [],
   "source": []
  }
 ],
 "metadata": {
  "kernelspec": {
   "display_name": "Python 3 (ipykernel)",
   "language": "python",
   "name": "python3"
  },
  "language_info": {
   "codemirror_mode": {
    "name": "ipython",
    "version": 3
   },
   "file_extension": ".py",
   "mimetype": "text/x-python",
   "name": "python",
   "nbconvert_exporter": "python",
   "pygments_lexer": "ipython3",
   "version": "3.9.7"
  }
 },
 "nbformat": 4,
 "nbformat_minor": 5
}
